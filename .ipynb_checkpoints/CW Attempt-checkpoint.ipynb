{
 "cells": [
  {
   "cell_type": "markdown",
   "metadata": {},
   "source": [
    "The following notebook adapts some code from the TensorFlow tutorial: https://www.tensorflow.org/tutorials/keras/classification"
   ]
  },
  {
   "cell_type": "code",
   "execution_count": 3,
   "metadata": {},
   "outputs": [],
   "source": [
    "import tensorflow as tf\n",
    "from tensorflow import keras\n",
    "\n",
    "# Helper libraries\n",
    "import numpy as np  # Keras needs an older version on numpy\n",
    "import matplotlib.pyplot as plt"
   ]
  },
  {
   "cell_type": "markdown",
   "metadata": {},
   "source": [
    "## Import Landsat"
   ]
  },
  {
   "cell_type": "code",
   "execution_count": 55,
   "metadata": {},
   "outputs": [],
   "source": [
    "def extract_data_lables(file):\n",
    "    data, lables = [], []\n",
    "    with open(file, \"r\") as f:\n",
    "        for row in f:\n",
    "            row = row.split()\n",
    "            row = [int(i) for i in row]\n",
    "            lables.append(row.pop(-1))\n",
    "            data.append(row)\n",
    "        return np.array(data), np.array(lables)"
   ]
  },
  {
   "cell_type": "code",
   "execution_count": 56,
   "metadata": {},
   "outputs": [],
   "source": [
    "train_data, train_lables = extract_data_lables(\"data\\landsat\\sat.trn\")"
   ]
  },
  {
   "cell_type": "code",
   "execution_count": 57,
   "metadata": {},
   "outputs": [],
   "source": [
    "test_data, test_lables  = extract_data_lables(\"data\\landsat\\sat.tst\")"
   ]
  },
  {
   "cell_type": "code",
   "execution_count": 59,
   "metadata": {},
   "outputs": [
    {
     "name": "stdout",
     "output_type": "stream",
     "text": [
      "4435\n",
      "2000\n"
     ]
    }
   ],
   "source": [
    "print(len(train_data))\n",
    "print(len(test_data))"
   ]
  },
  {
   "cell_type": "markdown",
   "metadata": {},
   "source": [
    "### Clean Lables"
   ]
  },
  {
   "cell_type": "code",
   "execution_count": 60,
   "metadata": {},
   "outputs": [],
   "source": [
    "train_lables -= 1\n",
    "test_lables -= 1"
   ]
  },
  {
   "cell_type": "code",
   "execution_count": 61,
   "metadata": {},
   "outputs": [],
   "source": [
    "class_names = {\n",
    "    0:'red soil'\n",
    "    ,1:'cotton crop'\n",
    "    ,2:'grey soil'\n",
    "    ,3:'damp grey soil'\n",
    "    ,4:'soil with vegetation stubble'\n",
    "    ,5:'mixture class (all types present)'\n",
    "    ,6:'very damp grey soil'\n",
    "}"
   ]
  },
  {
   "cell_type": "markdown",
   "metadata": {},
   "source": [
    "## Preprocess Images"
   ]
  },
  {
   "cell_type": "code",
   "execution_count": 62,
   "metadata": {},
   "outputs": [],
   "source": [
    "# scale pixels to 0-1\n",
    "train_data = train_data / 255.0\n",
    "test_data = test_data / 255.0"
   ]
  },
  {
   "cell_type": "markdown",
   "metadata": {},
   "source": [
    "TODO: Find a way to optimise these layers (will be needed for report)"
   ]
  },
  {
   "cell_type": "markdown",
   "metadata": {},
   "source": [
    "## One-hot encode lables\n",
    "Class lables need to be in an nxc array format"
   ]
  },
  {
   "cell_type": "code",
   "execution_count": 63,
   "metadata": {},
   "outputs": [],
   "source": [
    "from sklearn.preprocessing import OneHotEncoder"
   ]
  },
  {
   "cell_type": "code",
   "execution_count": 85,
   "metadata": {},
   "outputs": [],
   "source": [
    "ohe = OneHotEncoder(sparse=False)\n",
    "ohe.fit([0])\n",
    "train_y = ohe.fit_transform(train_lables.reshape(-1, 1))\n",
    "test_y = ohe.transform(test_lables.reshape(-1, 1))"
   ]
  },
  {
   "cell_type": "code",
   "execution_count": 86,
   "metadata": {},
   "outputs": [
    {
     "data": {
      "text/plain": [
       "(4435, 36)"
      ]
     },
     "execution_count": 86,
     "metadata": {},
     "output_type": "execute_result"
    }
   ],
   "source": [
    "train_data.shape"
   ]
  },
  {
   "cell_type": "code",
   "execution_count": 120,
   "metadata": {},
   "outputs": [
    {
     "data": {
      "text/plain": [
       "(4435, 6)"
      ]
     },
     "execution_count": 120,
     "metadata": {},
     "output_type": "execute_result"
    }
   ],
   "source": [
    "train_y.shape"
   ]
  },
  {
   "cell_type": "markdown",
   "metadata": {},
   "source": [
    "## Compile model"
   ]
  },
  {
   "cell_type": "code",
   "execution_count": null,
   "metadata": {},
   "outputs": [],
   "source": [
    "from keras.layers import Dense, Activation\n",
    "from keras.models import Sequential"
   ]
  },
  {
   "cell_type": "code",
   "execution_count": 114,
   "metadata": {},
   "outputs": [],
   "source": [
    "model = Sequential()\n",
    "model.add(Dense(36, input_dim=36))  # input_dim easier to use than input_shape\n",
    "model.add(Activation('relu'))\n",
    "model.add(Dense(6))  # output layer\n",
    "model.add(Activation('sigmoid'))"
   ]
  },
  {
   "cell_type": "markdown",
   "metadata": {},
   "source": [
    "TODO: This is the point where we can add the following:\n",
    "* Loss function\n",
    "* Optimiser (i.e. the WAME algorithm)\n",
    "* Metrics - used in metrics e.g accuracy"
   ]
  },
  {
   "cell_type": "code",
   "execution_count": 124,
   "metadata": {},
   "outputs": [],
   "source": [
    "model.compile(optimizer='adam'\n",
    "              ,loss='categorical_crossentropy'\n",
    "              ,metrics=['accuracy']\n",
    "             )"
   ]
  },
  {
   "cell_type": "markdown",
   "metadata": {},
   "source": [
    "### Train"
   ]
  },
  {
   "cell_type": "code",
   "execution_count": 125,
   "metadata": {},
   "outputs": [
    {
     "name": "stdout",
     "output_type": "stream",
     "text": [
      "Epoch 1/10\n",
      "4435/4435 [==============================] - 0s 57us/step - loss: 0.6550 - accuracy: 0.8189\n",
      "Epoch 2/10\n",
      "4435/4435 [==============================] - 0s 24us/step - loss: 0.6269 - accuracy: 0.8234\n",
      "Epoch 3/10\n",
      "4435/4435 [==============================] - 0s 26us/step - loss: 0.6025 - accuracy: 0.8219\n",
      "Epoch 4/10\n",
      "4435/4435 [==============================] - 0s 25us/step - loss: 0.5827 - accuracy: 0.8230\n",
      "Epoch 5/10\n",
      "4435/4435 [==============================] - 0s 26us/step - loss: 0.5652 - accuracy: 0.8246\n",
      "Epoch 6/10\n",
      "4435/4435 [==============================] - 0s 25us/step - loss: 0.5522 - accuracy: 0.8271\n",
      "Epoch 7/10\n",
      "4435/4435 [==============================] - 0s 27us/step - loss: 0.5403 - accuracy: 0.8268\n",
      "Epoch 8/10\n",
      "4435/4435 [==============================] - 0s 28us/step - loss: 0.5278 - accuracy: 0.8253\n",
      "Epoch 9/10\n",
      "4435/4435 [==============================] - 0s 26us/step - loss: 0.5183 - accuracy: 0.8257\n",
      "Epoch 10/10\n",
      "4435/4435 [==============================] - 0s 27us/step - loss: 0.5104 - accuracy: 0.8280\n"
     ]
    },
    {
     "data": {
      "text/plain": [
       "<keras.callbacks.callbacks.History at 0x1a70564a9b0>"
      ]
     },
     "execution_count": 125,
     "metadata": {},
     "output_type": "execute_result"
    }
   ],
   "source": [
    "model.fit(train_data, train_y, epochs=10)"
   ]
  },
  {
   "cell_type": "code",
   "execution_count": 128,
   "metadata": {},
   "outputs": [
    {
     "name": "stdout",
     "output_type": "stream",
     "text": [
      "2000/2000 [==============================] - 0s 14us/step\n",
      "\n",
      "Test accuracy: 0.8004999756813049\n"
     ]
    }
   ],
   "source": [
    "test_loss, test_acc = model.evaluate(test_data,  test_y)\n",
    "\n",
    "print('\\nTest accuracy:', test_acc)"
   ]
  }
 ],
 "metadata": {
  "kernelspec": {
   "display_name": "MLCW",
   "language": "python",
   "name": "mlcw"
  },
  "language_info": {
   "codemirror_mode": {
    "name": "ipython",
    "version": 3
   },
   "file_extension": ".py",
   "mimetype": "text/x-python",
   "name": "python",
   "nbconvert_exporter": "python",
   "pygments_lexer": "ipython3",
   "version": "3.6.7"
  }
 },
 "nbformat": 4,
 "nbformat_minor": 4
}
