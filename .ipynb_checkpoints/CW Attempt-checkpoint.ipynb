{
 "cells": [
  {
   "cell_type": "markdown",
   "metadata": {},
   "source": [
    "The following notebook adapts some code from the TensorFlow tutorial: https://www.tensorflow.org/tutorials/keras/classification"
   ]
  },
  {
   "cell_type": "code",
   "execution_count": 72,
   "metadata": {},
   "outputs": [],
   "source": [
    "import keras\n",
    "from keras import Sequential\n",
    "from keras.layers import Dense, Activation\n",
    "from keras.callbacks import ModelCheckpoint, EarlyStopping\n",
    "\n",
    "# Helper libraries\n",
    "import numpy as np  # Keras needs an older version on numpy\n",
    "import matplotlib.pyplot as plt"
   ]
  },
  {
   "cell_type": "markdown",
   "metadata": {},
   "source": [
    "## Import Landsat"
   ]
  },
  {
   "cell_type": "code",
   "execution_count": 2,
   "metadata": {},
   "outputs": [],
   "source": [
    "def extract_data_lables(file):\n",
    "    data, lables = [], []\n",
    "    with open(file, \"r\") as f:\n",
    "        for row in f:\n",
    "            row = row.split()\n",
    "            row = [int(i) for i in row]\n",
    "            lables.append(row.pop(-1))\n",
    "            data.append(row)\n",
    "        return np.array(data), np.array(lables)"
   ]
  },
  {
   "cell_type": "code",
   "execution_count": 3,
   "metadata": {},
   "outputs": [],
   "source": [
    "train_data, train_lables = extract_data_lables(\"data\\landsat\\sat.trn\")"
   ]
  },
  {
   "cell_type": "code",
   "execution_count": 4,
   "metadata": {},
   "outputs": [],
   "source": [
    "test_data, test_lables  = extract_data_lables(\"data\\landsat\\sat.tst\")"
   ]
  },
  {
   "cell_type": "code",
   "execution_count": 5,
   "metadata": {},
   "outputs": [
    {
     "name": "stdout",
     "output_type": "stream",
     "text": [
      "4435\n",
      "2000\n"
     ]
    }
   ],
   "source": [
    "print(len(train_data))\n",
    "print(len(test_data))"
   ]
  },
  {
   "cell_type": "markdown",
   "metadata": {},
   "source": [
    "### Clean Lables"
   ]
  },
  {
   "cell_type": "code",
   "execution_count": 6,
   "metadata": {},
   "outputs": [],
   "source": [
    "train_lables -= 1\n",
    "test_lables -= 1"
   ]
  },
  {
   "cell_type": "code",
   "execution_count": 7,
   "metadata": {},
   "outputs": [],
   "source": [
    "class_names = {\n",
    "    0:'red soil'\n",
    "    ,1:'cotton crop'\n",
    "    ,2:'grey soil'\n",
    "    ,3:'damp grey soil'\n",
    "    ,4:'soil with vegetation stubble'\n",
    "    ,5:'mixture class (all types present)'\n",
    "    ,6:'very damp grey soil'\n",
    "}"
   ]
  },
  {
   "cell_type": "markdown",
   "metadata": {},
   "source": [
    "## Preprocess Images"
   ]
  },
  {
   "cell_type": "code",
   "execution_count": 8,
   "metadata": {},
   "outputs": [],
   "source": [
    "# scale pixels to 0-1\n",
    "train_data = train_data / 255.0\n",
    "test_data = test_data / 255.0"
   ]
  },
  {
   "cell_type": "markdown",
   "metadata": {},
   "source": [
    "TODO: Find a way to optimise these layers (will be needed for report)"
   ]
  },
  {
   "cell_type": "markdown",
   "metadata": {},
   "source": [
    "## One-hot encode lables\n",
    "Class lables need to be in an nxc array format"
   ]
  },
  {
   "cell_type": "code",
   "execution_count": 9,
   "metadata": {},
   "outputs": [],
   "source": [
    "from sklearn.preprocessing import OneHotEncoder"
   ]
  },
  {
   "cell_type": "code",
   "execution_count": 10,
   "metadata": {},
   "outputs": [],
   "source": [
    "ohe = OneHotEncoder(sparse=False)\n",
    "train_y = ohe.fit_transform(train_lables.reshape(-1, 1))\n",
    "test_y = ohe.transform(test_lables.reshape(-1, 1))"
   ]
  },
  {
   "cell_type": "code",
   "execution_count": 11,
   "metadata": {},
   "outputs": [
    {
     "data": {
      "text/plain": [
       "(4435, 36)"
      ]
     },
     "execution_count": 11,
     "metadata": {},
     "output_type": "execute_result"
    }
   ],
   "source": [
    "train_data.shape"
   ]
  },
  {
   "cell_type": "code",
   "execution_count": 12,
   "metadata": {},
   "outputs": [
    {
     "data": {
      "text/plain": [
       "(4435, 6)"
      ]
     },
     "execution_count": 12,
     "metadata": {},
     "output_type": "execute_result"
    }
   ],
   "source": [
    "train_y.shape"
   ]
  },
  {
   "cell_type": "markdown",
   "metadata": {},
   "source": [
    "## TODO: Create WAME Optimiser"
   ]
  },
  {
   "cell_type": "code",
   "execution_count": 64,
   "metadata": {},
   "outputs": [],
   "source": [
    "# import keras.backend as K\n",
    "# from keras.optimizers import Optimizer\n",
    "\n",
    "# class RMSprop(Optimizer):\n",
    "#     \"\"\"RMSProp optimizer.\n",
    "#     It is recommended to leave the parameters of this optimizer\n",
    "#     at their default values\n",
    "#     (except the learning rate, which can be freely tuned).\n",
    "#     Arguments:\n",
    "#             lr: float >= 0. Learning rate.\n",
    "#             rho: float >= 0.\n",
    "#             epsilon: float >= 0. Fuzz factor. If `None`, defaults to `K.epsilon()`.\n",
    "#             decay: float >= 0. Learning rate decay over each update.\n",
    "#     \"\"\"\n",
    "\n",
    "#     def __init__(self, lr=0.001, rho=0.9, epsilon=None, decay=0., **kwargs):\n",
    "#         super(RMSprop, self).__init__(**kwargs)\n",
    "#         with K.name_scope(self.__class__.__name__):\n",
    "#             self.lr = K.variable(lr, name='lr')\n",
    "#             self.rho = K.variable(rho, name='rho')\n",
    "#             self.decay = K.variable(decay, name='decay')\n",
    "#             self.iterations = K.variable(0, dtype='int64', name='iterations')\n",
    "#         if epsilon is None:\n",
    "#             epsilon = K.epsilon()\n",
    "#         self.epsilon = epsilon\n",
    "#         self.initial_decay = decay\n",
    "\n",
    "#     def get_updates(self, loss, params):\n",
    "#         grads = self.get_gradients(loss, params)\n",
    "#         accumulators = [K.zeros(K.int_shape(p), dtype=K.dtype(p)) for p in params]\n",
    "#         self.weights = accumulators\n",
    "#         self.updates = [state_ops.assign_add(self.iterations, 1)]\n",
    "\n",
    "#         lr = self.lr\n",
    "#         if self.initial_decay > 0:\n",
    "#             lr = lr * (    # pylint: disable=g-no-augmented-assignment\n",
    "#                     1. /\n",
    "#                     (1. +\n",
    "#                      self.decay * math_ops.cast(self.iterations, K.dtype(self.decay))))\n",
    "\n",
    "#         for p, g, a in zip(params, grads, accumulators):\n",
    "#             # update accumulator\n",
    "#             new_a = self.rho * a + (1. - self.rho) * math_ops.square(g)\n",
    "#             self.updates.append(state_ops.assign(a, new_a))\n",
    "#             new_p = p - lr * g / (K.sqrt(new_a) + self.epsilon)\n",
    "\n",
    "#             # Apply constraints.\n",
    "#             if getattr(p, 'constraint', None) is not None:\n",
    "#                 new_p = p.constraint(new_p)\n",
    "\n",
    "#             self.updates.append(state_ops.assign(p, new_p))\n",
    "#         return self.updates\n",
    "\n",
    "#     def get_config(self):\n",
    "#         config = {\n",
    "#                 'lr': float(K.get_value(self.lr)),\n",
    "#                 'rho': float(K.get_value(self.rho)),\n",
    "#                 'decay': float(K.get_value(self.decay)),\n",
    "#                 'epsilon': self.epsilon\n",
    "#         }\n",
    "#         base_config = super(RMSprop, self).get_config()\n",
    "#         return dict(list(base_config.items()) + list(config.items()))"
   ]
  },
  {
   "cell_type": "markdown",
   "metadata": {},
   "source": [
    "## Functions for creating and testing models"
   ]
  },
  {
   "cell_type": "code",
   "execution_count": 76,
   "metadata": {
    "scrolled": true
   },
   "outputs": [],
   "source": [
    "def train_test_model(model):\n",
    "    \"\"\"Trains a model using 25% validation, then tests the model with the best validation performance\"\"\"\n",
    "    \n",
    "    model.compile(optimizer='adam'\n",
    "              ,loss='categorical_crossentropy'\n",
    "              ,metrics=['accuracy']\n",
    "             )\n",
    "    \n",
    "    history =  model.fit(\n",
    "        train_data\n",
    "        , train_y\n",
    "        , epochs=50\n",
    "        , validation_split=0.25\n",
    "        , verbose=0\n",
    "        ,callbacks = [\n",
    "            EarlyStopping(verbose=False, patience=20, monitor='val_loss'),\n",
    "            ModelCheckpoint('TestModel-progress', monitor='val_loss', verbose=False, save_best_only=True)],\n",
    "    )\n",
    "    \n",
    "    test_loss, test_acc = model.evaluate(test_data,  test_y, verbose = 0)\n",
    "    return (test_loss, test_acc)   "
   ]
  },
  {
   "cell_type": "code",
   "execution_count": 90,
   "metadata": {},
   "outputs": [],
   "source": [
    "def create_seq_model(n_hidden=1, n_nodes=36):\n",
    "    model = Sequential()\n",
    "    # First hidden layer\n",
    "    model.add(Dense(n_nodes, input_dim=36))  # input_dim easier to use than input_shape\n",
    "    model.add(Activation('relu'))\n",
    "    # Additional hidden layers\n",
    "    for i in range(n_hidden-1):\n",
    "        model.add(Dense(n_nodes))\n",
    "        model.add(Activation('relu'))\n",
    "    # output layer\n",
    "    model.add(Dense(6))  \n",
    "    model.add(Activation('sigmoid'))\n",
    "    return model"
   ]
  },
  {
   "cell_type": "code",
   "execution_count": 92,
   "metadata": {},
   "outputs": [],
   "source": [
    "n_hidden_lst = [1, 2, 3]\n",
    "n_nodes_lst = [10, 20, 30, 40]"
   ]
  },
  {
   "cell_type": "code",
   "execution_count": 97,
   "metadata": {},
   "outputs": [
    {
     "name": "stdout",
     "output_type": "stream",
     "text": [
      "2000/2000 [==============================] - 0s 16us/step\n",
      "2000/2000 [==============================] - 0s 16us/step\n",
      "2000/2000 [==============================] - 0s 16us/step\n",
      "2000/2000 [==============================] - 0s 15us/step\n",
      "2000/2000 [==============================] - 0s 19us/step\n",
      "2000/2000 [==============================] - 0s 17us/step\n",
      "2000/2000 [==============================] - 0s 25us/step\n",
      "2000/2000 [==============================] - 0s 18us/step\n",
      "2000/2000 [==============================] - 0s 18us/step\n",
      "2000/2000 [==============================] - 0s 20us/step\n",
      "2000/2000 [==============================] - 0s 19us/step\n",
      "2000/2000 [==============================] - 0s 20us/step\n"
     ]
    }
   ],
   "source": [
    "test_losses = np.zeros((len(n_hidden_lst), len(n_nodes_lst)))\n",
    "test_accs = np.zeros((len(n_hidden_lst), len(n_nodes_lst)))\n",
    "\n",
    "for i, n_hidden in enumerate(n_hidden_lst):\n",
    "    for j, n_nodes in enumerate(n_nodes_lst):\n",
    "        model = create_seq_model(n_hidden, n_nodes)\n",
    "        test_result = train_test_model(model)\n",
    "        test_losses[i, j] = test_result[0]\n",
    "        test_accs[i, j] = test_result[1]"
   ]
  },
  {
   "cell_type": "code",
   "execution_count": 99,
   "metadata": {},
   "outputs": [
    {
     "data": {
      "text/plain": [
       "array([[0.81300002, 0.81449997, 0.81449997, 0.81300002],\n",
       "       [0.79500002, 0.81099999, 0.8075    , 0.80849999],\n",
       "       [0.68000001, 0.79650003, 0.80250001, 0.79049999]])"
      ]
     },
     "execution_count": 99,
     "metadata": {},
     "output_type": "execute_result"
    }
   ],
   "source": [
    "test_accs"
   ]
  },
  {
   "cell_type": "code",
   "execution_count": 88,
   "metadata": {},
   "outputs": [
    {
     "name": "stdout",
     "output_type": "stream",
     "text": [
      "2000/2000 [==============================] - 0s 13us/step\n"
     ]
    },
    {
     "data": {
      "text/plain": [
       "(0.5095013377666473, 0.8134999871253967)"
      ]
     },
     "execution_count": 88,
     "metadata": {},
     "output_type": "execute_result"
    }
   ],
   "source": [
    "train_test_model(model)"
   ]
  },
  {
   "cell_type": "code",
   "execution_count": 89,
   "metadata": {},
   "outputs": [
    {
     "name": "stdout",
     "output_type": "stream",
     "text": [
      "2000/2000 [==============================] - 0s 13us/step\n"
     ]
    },
    {
     "data": {
      "text/plain": [
       "(0.5130655791759491, 0.8054999709129333)"
      ]
     },
     "execution_count": 89,
     "metadata": {},
     "output_type": "execute_result"
    }
   ],
   "source": [
    "model = create_seq_model(n_hidden=2)\n",
    "train_test_model(model)"
   ]
  },
  {
   "cell_type": "code",
   "execution_count": null,
   "metadata": {},
   "outputs": [],
   "source": []
  },
  {
   "cell_type": "markdown",
   "metadata": {},
   "source": [
    "### Train"
   ]
  },
  {
   "cell_type": "code",
   "execution_count": 63,
   "metadata": {},
   "outputs": [
    {
     "data": {
      "image/png": "[encoded data removed]",
      "text/plain": [
       "<Figure size 432x288 with 1 Axes>"
      ]
     },
     "metadata": {
      "needs_background": "light"
     },
     "output_type": "display_data"
    }
   ],
   "source": [
    "# plt.plot(history.history['accuracy'])\n",
    "# plt.plot(history.history['val_accuracy'])\n",
    "# plt.title('Model accuracy')\n",
    "# plt.ylabel('Accuracy')\n",
    "# plt.xlabel('Epoch')\n",
    "# plt.legend(['Train', 'Val'], loc='upper left')\n",
    "# plt.show()"
   ]
  }
 ],
 "metadata": {
  "kernelspec": {
   "display_name": "MLCW",
   "language": "python",
   "name": "mlcw"
  },
  "language_info": {
   "codemirror_mode": {
    "name": "ipython",
    "version": 3
   },
   "file_extension": ".py",
   "mimetype": "text/x-python",
   "name": "python",
   "nbconvert_exporter": "python",
   "pygments_lexer": "ipython3",
   "version": "3.6.7"
  }
 },
 "nbformat": 4,
 "nbformat_minor": 4
}
