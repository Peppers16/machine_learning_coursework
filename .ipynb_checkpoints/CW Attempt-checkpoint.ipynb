{
 "cells": [
  {
   "cell_type": "markdown",
   "metadata": {},
   "source": [
    "The following notebook adapts some code from the TensorFlow tutorial: https://www.tensorflow.org/tutorials/keras/classification"
   ]
  },
  {
   "cell_type": "code",
   "execution_count": 25,
   "metadata": {},
   "outputs": [],
   "source": [
    "import keras\n",
    "from keras import Sequential\n",
    "from keras.layers  import Dense, Activation\n",
    "from keras.callbacks import ModelCheckpoint, EarlyStopping\n",
    "\n",
    "# Helper libraries\n",
    "import numpy as np  # Keras needs an older version on numpy\n",
    "import matplotlib.pyplot as plt\n",
    "from collections import OrderedDict"
   ]
  },
  {
   "cell_type": "code",
   "execution_count": 39,
   "metadata": {},
   "outputs": [],
   "source": [
    "from RProp import RProp\n",
    "from Wame import Wame\n",
    "from WameMosca import WameMosca"
   ]
  },
  {
   "cell_type": "markdown",
   "metadata": {},
   "source": [
    "## Import Landsat"
   ]
  },
  {
   "cell_type": "code",
   "execution_count": 3,
   "metadata": {},
   "outputs": [],
   "source": [
    "def extract_data_lables(file):\n",
    "    data, lables = [], []\n",
    "    with open(file, \"r\") as f:\n",
    "        for row in f:\n",
    "            row = row.split()\n",
    "            row = [int(i) for i in row]\n",
    "            lables.append(row.pop(-1))\n",
    "            data.append(row)\n",
    "        return np.array(data), np.array(lables)"
   ]
  },
  {
   "cell_type": "code",
   "execution_count": 4,
   "metadata": {},
   "outputs": [],
   "source": [
    "train_data, train_lables = extract_data_lables(\"data\\landsat\\sat.trn\")"
   ]
  },
  {
   "cell_type": "code",
   "execution_count": 5,
   "metadata": {},
   "outputs": [],
   "source": [
    "test_data, test_lables  = extract_data_lables(\"data\\landsat\\sat.tst\")"
   ]
  },
  {
   "cell_type": "code",
   "execution_count": 6,
   "metadata": {},
   "outputs": [
    {
     "name": "stdout",
     "output_type": "stream",
     "text": [
      "4435\n",
      "2000\n"
     ]
    }
   ],
   "source": [
    "print(len(train_data))\n",
    "print(len(test_data))"
   ]
  },
  {
   "cell_type": "markdown",
   "metadata": {},
   "source": [
    "### Clean Lables"
   ]
  },
  {
   "cell_type": "code",
   "execution_count": 7,
   "metadata": {},
   "outputs": [],
   "source": [
    "train_lables -= 1\n",
    "test_lables -= 1"
   ]
  },
  {
   "cell_type": "code",
   "execution_count": 8,
   "metadata": {},
   "outputs": [],
   "source": [
    "class_names = {\n",
    "    0:'red soil'\n",
    "    ,1:'cotton crop'\n",
    "    ,2:'grey soil'\n",
    "    ,3:'damp grey soil'\n",
    "    ,4:'soil with vegetation stubble'\n",
    "    ,5:'mixture class (all types present)'\n",
    "    ,6:'very damp grey soil'\n",
    "}"
   ]
  },
  {
   "cell_type": "markdown",
   "metadata": {},
   "source": [
    "## Preprocess Images"
   ]
  },
  {
   "cell_type": "code",
   "execution_count": 9,
   "metadata": {},
   "outputs": [],
   "source": [
    "# scale pixels to 0-1\n",
    "train_data = train_data / 255.0\n",
    "test_data = test_data / 255.0"
   ]
  },
  {
   "cell_type": "markdown",
   "metadata": {},
   "source": [
    "TODO: Find a way to optimise these layers (will be needed for report)"
   ]
  },
  {
   "cell_type": "markdown",
   "metadata": {},
   "source": [
    "## One-hot encode lables\n",
    "Class lables need to be in an nxc array format"
   ]
  },
  {
   "cell_type": "code",
   "execution_count": 10,
   "metadata": {},
   "outputs": [],
   "source": [
    "from sklearn.preprocessing import OneHotEncoder"
   ]
  },
  {
   "cell_type": "code",
   "execution_count": 11,
   "metadata": {},
   "outputs": [],
   "source": [
    "ohe = OneHotEncoder(sparse=False)\n",
    "train_y = ohe.fit_transform(train_lables.reshape(-1, 1))\n",
    "test_y = ohe.transform(test_lables.reshape(-1, 1))"
   ]
  },
  {
   "cell_type": "code",
   "execution_count": 12,
   "metadata": {},
   "outputs": [
    {
     "data": {
      "text/plain": [
       "(4435, 36)"
      ]
     },
     "execution_count": 12,
     "metadata": {},
     "output_type": "execute_result"
    }
   ],
   "source": [
    "train_data.shape"
   ]
  },
  {
   "cell_type": "code",
   "execution_count": 13,
   "metadata": {},
   "outputs": [
    {
     "data": {
      "text/plain": [
       "(4435, 6)"
      ]
     },
     "execution_count": 13,
     "metadata": {},
     "output_type": "execute_result"
    }
   ],
   "source": [
    "train_y.shape"
   ]
  },
  {
   "cell_type": "markdown",
   "metadata": {},
   "source": [
    "## Functions for creating and testing models"
   ]
  },
  {
   "cell_type": "code",
   "execution_count": 14,
   "metadata": {},
   "outputs": [],
   "source": [
    "def create_seq_model(n_hidden=1, n_nodes=36):\n",
    "    model = Sequential()\n",
    "    # First hidden layer\n",
    "    model.add(Dense(n_nodes, input_dim=36))  # input_dim easier to use than input_shape\n",
    "    model.add(Activation('relu'))\n",
    "    # Additional hidden layers\n",
    "    for i in range(n_hidden-1):\n",
    "        model.add(Dense(n_nodes))\n",
    "        model.add(Activation('relu'))\n",
    "    # output layer\n",
    "    model.add(Dense(6))  \n",
    "    model.add(Activation('sigmoid'))\n",
    "    return model"
   ]
  },
  {
   "cell_type": "code",
   "execution_count": 15,
   "metadata": {
    "scrolled": true
   },
   "outputs": [],
   "source": [
    "def train_test_model(model, optimiser='adam'):\n",
    "    \"\"\"Trains a model using 25% validation, then tests the model with the best validation performance\"\"\"\n",
    "    \n",
    "    model.compile(optimizer=optimiser\n",
    "              ,loss='categorical_crossentropy'\n",
    "              ,metrics=['accuracy']\n",
    "             )\n",
    "    \n",
    "    np.random.seed(123)\n",
    "    \n",
    "    history =  model.fit(\n",
    "        train_data\n",
    "        , train_y\n",
    "        , epochs=100\n",
    "        , validation_split=0.25\n",
    "        , verbose=0\n",
    "        , batch_size=100\n",
    "        ,callbacks = [\n",
    "            EarlyStopping(verbose=False, patience=20, monitor='val_acc'),\n",
    "            ModelCheckpoint('TestModel-progress', monitor='val_acc', verbose=False, save_best_only=True)],\n",
    "    )\n",
    "    train_loss, train_acc = model.evaluate(train_data,  train_y, verbose = 0)\n",
    "    test_loss, test_acc = model.evaluate(test_data,  test_y, verbose = 0)\n",
    "    \n",
    "    epochs = history.history['val_acc']\n",
    "    best_epoch = epochs.index(max(epochs))\n",
    "    \n",
    "    return (train_acc, test_acc, best_epoch, history)   "
   ]
  },
  {
   "cell_type": "code",
   "execution_count": 31,
   "metadata": {},
   "outputs": [],
   "source": [
    "def train_test_grid(n_hidden_lst, n_nodes_lst, optimiser, n_experiments=20):\n",
    "    results = []\n",
    "    \n",
    "    if isinstance(optimiser, str):\n",
    "        opt_alias = optimiser\n",
    "    else:\n",
    "        opt_alias = type(optimiser).__name__\n",
    "\n",
    "    for i, n_hidden in enumerate(n_hidden_lst):\n",
    "        for j, n_nodes in enumerate(n_nodes_lst):\n",
    "            record_dict = OrderedDict({\n",
    "                'hidden_layer': n_hidden\n",
    "                ,'nodes': n_nodes\n",
    "                ,'optimiser': opt_alias\n",
    "                ,'n_experiments': n_experiments\n",
    "                ,'train_accuracies': []\n",
    "                ,'test_accuracies': []\n",
    "                ,'best_epochs': []\n",
    "            })\n",
    "            \n",
    "            for k in range(n_experiments):\n",
    "                model = create_seq_model(n_hidden, n_nodes)\n",
    "                train_acc, test_acc, best_epoch, _ = train_test_model(model, optimiser)\n",
    "                record_dict['train_accuracies'].append(train_acc)\n",
    "                record_dict['test_accuracies'].append(test_acc)\n",
    "                record_dict['best_epochs'].append(best_epoch)\n",
    "            \n",
    "            record_dict['avg_train_acc'] = sum(record_dict['train_accuracies'])/len(record_dict['train_accuracies'])\n",
    "            record_dict['avg_test_acc'] = sum(record_dict['test_accuracies'])/len(record_dict['test_accuracies'])\n",
    "            record_dict['avg_epoch'] = sum(record_dict['best_epochs'])/len(record_dict['best_epochs'])\n",
    "            \n",
    "            results.append(record_dict)\n",
    "            \n",
    "    \n",
    "    return results"
   ]
  },
  {
   "cell_type": "markdown",
   "metadata": {},
   "source": [
    "##### Test various 'wame' configurations"
   ]
  },
  {
   "cell_type": "code",
   "execution_count": 32,
   "metadata": {},
   "outputs": [],
   "source": [
    "n_hidden_lst = [1, 2]\n",
    "n_nodes_lst = [20, 30]"
   ]
  },
  {
   "cell_type": "code",
   "execution_count": 33,
   "metadata": {},
   "outputs": [],
   "source": [
    "wame_results = train_test_grid(n_hidden_lst, n_nodes_lst, Wame(), n_experiments=5)"
   ]
  },
  {
   "cell_type": "code",
   "execution_count": 36,
   "metadata": {},
   "outputs": [
    {
     "data": {
      "text/plain": [
       "OrderedDict([('hidden_layer', 1),\n",
       "             ('nodes', 20),\n",
       "             ('optimiser', 'Wame'),\n",
       "             ('n_experiments', 5),\n",
       "             ('train_accuracies',\n",
       "              [0.23404735062006765,\n",
       "               0.2342728297632469,\n",
       "               0.23404735062006765,\n",
       "               0.23404735062006765,\n",
       "               0.23404735062006765]),\n",
       "             ('test_accuracies', [0.235, 0.235, 0.235, 0.235, 0.235]),\n",
       "             ('best_epochs', [2, 20, 2, 21, 0]),\n",
       "             ('avg_train_acc', 0.23409244644870347),\n",
       "             ('avg_test_acc', 0.23499999999999996),\n",
       "             ('avg_epoch', 9.0)])"
      ]
     },
     "execution_count": 36,
     "metadata": {},
     "output_type": "execute_result"
    }
   ],
   "source": [
    "wame_results[1]"
   ]
  },
  {
   "cell_type": "code",
   "execution_count": 40,
   "metadata": {},
   "outputs": [],
   "source": [
    "wame_mosca_results = train_test_grid(n_hidden_lst, n_nodes_lst, WameMosca(), n_experiments=5)"
   ]
  },
  {
   "cell_type": "code",
   "execution_count": 41,
   "metadata": {},
   "outputs": [
    {
     "data": {
      "text/plain": [
       "[OrderedDict([('hidden_layer', 1),\n",
       "              ('nodes', 10),\n",
       "              ('optimiser', 'WameMosca'),\n",
       "              ('n_experiments', 5),\n",
       "              ('train_accuracies',\n",
       "               [0.8101465614901051,\n",
       "                0.813528748604195,\n",
       "                0.8121758737787185,\n",
       "                0.8124013529218977,\n",
       "                0.8124013529218977]),\n",
       "              ('test_accuracies', [0.789, 0.7925, 0.794, 0.794, 0.794]),\n",
       "              ('best_epochs', [34, 16, 16, 16, 16]),\n",
       "              ('avg_train_acc', 0.8121307779433629),\n",
       "              ('avg_test_acc', 0.7927000000000001),\n",
       "              ('avg_epoch', 19.6)]),\n",
       " OrderedDict([('hidden_layer', 1),\n",
       "              ('nodes', 20),\n",
       "              ('optimiser', 'WameMosca'),\n",
       "              ('n_experiments', 5),\n",
       "              ('train_accuracies',\n",
       "               [0.8189402480136179,\n",
       "                0.8160090192463648,\n",
       "                0.8187147688704386,\n",
       "                0.8160090192463648,\n",
       "                0.8189402480136179]),\n",
       "              ('test_accuracies', [0.804, 0.798, 0.8035, 0.7975, 0.8035]),\n",
       "              ('best_epochs', [8, 16, 8, 16, 8]),\n",
       "              ('avg_train_acc', 0.8177226606780807),\n",
       "              ('avg_test_acc', 0.8013),\n",
       "              ('avg_epoch', 11.2)]),\n",
       " OrderedDict([('hidden_layer', 2),\n",
       "              ('nodes', 10),\n",
       "              ('optimiser', 'WameMosca'),\n",
       "              ('n_experiments', 5),\n",
       "              ('train_accuracies',\n",
       "               [0.8114994362887025,\n",
       "                0.8114994362887025,\n",
       "                0.7970687710311528,\n",
       "                0.7770011274091555,\n",
       "                0.8033821871947274]),\n",
       "              ('test_accuracies', [0.7985, 0.798, 0.782, 0.763, 0.7845]),\n",
       "              ('best_epochs', [8, 8, 16, 17, 16]),\n",
       "              ('avg_train_acc', 0.8000901916424882),\n",
       "              ('avg_test_acc', 0.7851999999999999),\n",
       "              ('avg_epoch', 13.0)]),\n",
       " OrderedDict([('hidden_layer', 2),\n",
       "              ('nodes', 20),\n",
       "              ('optimiser', 'WameMosca'),\n",
       "              ('n_experiments', 5),\n",
       "              ('train_accuracies',\n",
       "               [0.8085682074273721,\n",
       "                0.8133032694341364,\n",
       "                0.8157835400091084,\n",
       "                0.8133032694341364,\n",
       "                0.8151071025795705]),\n",
       "              ('test_accuracies', [0.7955, 0.8, 0.803, 0.8, 0.803]),\n",
       "              ('best_epochs', [8, 8, 8, 8, 8]),\n",
       "              ('avg_train_acc', 0.8132130777768648),\n",
       "              ('avg_test_acc', 0.8003),\n",
       "              ('avg_epoch', 8.0)])]"
      ]
     },
     "execution_count": 41,
     "metadata": {},
     "output_type": "execute_result"
    }
   ],
   "source": [
    "wame_mosca_results"
   ]
  },
  {
   "cell_type": "markdown",
   "metadata": {},
   "source": [
    "### Scratch:"
   ]
  },
  {
   "cell_type": "code",
   "execution_count": null,
   "metadata": {},
   "outputs": [],
   "source": [
    "test_losses_wame"
   ]
  },
  {
   "cell_type": "code",
   "execution_count": null,
   "metadata": {},
   "outputs": [],
   "source": [
    "epochs = history.history['val_acc']\n",
    "epochs.index(max(epochs))"
   ]
  },
  {
   "cell_type": "code",
   "execution_count": null,
   "metadata": {},
   "outputs": [],
   "source": [
    "history.history.keys()"
   ]
  },
  {
   "cell_type": "code",
   "execution_count": null,
   "metadata": {},
   "outputs": [],
   "source": [
    "plt.plot(history.history['acc'])\n",
    "plt.plot(history.history['val_acc'])\n",
    "plt.title('model accuracy')\n",
    "plt.ylabel('accuracy')\n",
    "plt.xlabel('epoch')\n",
    "plt.legend(['train', 'Val'], loc='upper left')\n",
    "plt.show()"
   ]
  }
 ],
 "metadata": {
  "kernelspec": {
   "display_name": "MLCW",
   "language": "python",
   "name": "mlcw"
  },
  "language_info": {
   "codemirror_mode": {
    "name": "ipython",
    "version": 3
   },
   "file_extension": ".py",
   "mimetype": "text/x-python",
   "name": "python",
   "nbconvert_exporter": "python",
   "pygments_lexer": "ipython3",
   "version": "3.6.7"
  }
 },
 "nbformat": 4,
 "nbformat_minor": 4
}
